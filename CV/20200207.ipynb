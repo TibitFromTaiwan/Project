{
 "nbformat": 4,
 "nbformat_minor": 2,
 "metadata": {
  "language_info": {
   "name": "python",
   "codemirror_mode": {
    "name": "ipython",
    "version": 3
   }
  },
  "orig_nbformat": 2,
  "file_extension": ".py",
  "mimetype": "text/x-python",
  "name": "python",
  "npconvert_exporter": "python",
  "pygments_lexer": "ipython3",
  "version": 3
 },
 "cells": [
  {
   "cell_type": "code",
   "execution_count": null,
   "metadata": {},
   "outputs": [
    {
     "ename": "Error",
     "evalue": "Data Science libraries jupyter and notebook are not installed.",
     "output_type": "error",
     "traceback": [
      "Error: Data Science libraries jupyter and notebook are not installed.",
      "at E.start (c:\\Users\\jim87\\.vscode\\extensions\\ms-python.python-2020.2.63072\\out\\client\\extension.js:1:820231)",
      "at runMicrotasks (<anonymous>)",
      "at processTicksAndRejections (internal/process/task_queues.js:89:5)"
     ]
    }
   ],
   "source": [
    "import numpy as np\n",
    "import cv2 as cv\n",
    "from matplotlib import pyplot as plt"
   ]
  },
  {
   "cell_type": "code",
   "execution_count": null,
   "metadata": {},
   "outputs": [
    {
     "ename": "Error",
     "evalue": "Data Science libraries jupyter and notebook are not installed.",
     "output_type": "error",
     "traceback": [
      "Error: Data Science libraries jupyter and notebook are not installed.",
      "at E.start (c:\\Users\\jim87\\.vscode\\extensions\\ms-python.python-2020.2.63072\\out\\client\\extension.js:1:820231)",
      "at runMicrotasks (<anonymous>)",
      "at processTicksAndRejections (internal/process/task_queues.js:89:5)"
     ]
    }
   ],
   "source": [
    "img = cv.imread('src/r.jpg')\n",
    "\n",
    "plt.imshow(img)\n",
    "plt.show()"
   ]
  },
  {
   "cell_type": "code",
   "execution_count": null,
   "metadata": {},
   "outputs": [
    {
     "ename": "Error",
     "evalue": "Data Science libraries jupyter and notebook are not installed.",
     "output_type": "error",
     "traceback": [
      "Error: Data Science libraries jupyter and notebook are not installed.",
      "at E.start (c:\\Users\\jim87\\.vscode\\extensions\\ms-python.python-2020.2.63072\\out\\client\\extension.js:1:820231)",
      "at runMicrotasks (<anonymous>)",
      "at processTicksAndRejections (internal/process/task_queues.js:89:5)"
     ]
    }
   ],
   "source": [
    "t1 = 250\n",
    "t2 = t1 + 180\n",
    "edges = cv.Canny(img, t1, t2)\n",
    "plt.imshow(edges)\n",
    "cv.imwrite('./edges.jpg', edges)"
   ]
  },
  {
   "cell_type": "code",
   "execution_count": null,
   "metadata": {},
   "outputs": [
    {
     "ename": "Error",
     "evalue": "Data Science libraries jupyter and notebook are not installed.",
     "output_type": "error",
     "traceback": [
      "Error: Data Science libraries jupyter and notebook are not installed.",
      "at E.start (c:\\Users\\jim87\\.vscode\\extensions\\ms-python.python-2020.2.63072\\out\\client\\extension.js:1:820231)",
      "at runMicrotasks (<anonymous>)",
      "at processTicksAndRejections (internal/process/task_queues.js:89:5)"
     ]
    }
   ],
   "source": [
    "laplacian = cv.Laplacian(img, cv.CV_16S)\n",
    "plt.imshow(laplacian)\n",
    "plt.show()\n",
    "cv.imwrite('./laplacian.jpg', laplacian)"
   ]
  },
  {
   "cell_type": "code",
   "execution_count": null,
   "metadata": {},
   "outputs": [
    {
     "ename": "Error",
     "evalue": "Data Science libraries jupyter and notebook are not installed.",
     "output_type": "error",
     "traceback": [
      "Error: Data Science libraries jupyter and notebook are not installed.",
      "at E.start (c:\\Users\\jim87\\.vscode\\extensions\\ms-python.python-2020.2.63072\\out\\client\\extension.js:1:820231)",
      "at runMicrotasks (<anonymous>)",
      "at processTicksAndRejections (internal/process/task_queues.js:89:5)"
     ]
    }
   ],
   "source": [
    "ret, thresh1 = cv.threshold(img, 127, 255, cv.THRESH_BINARY)\n",
    "plt.imshow(thresh1)\n",
    "plt.show()\n",
    "cv.imwrite('thresh.jpg', thresh1)"
   ]
  },
  {
   "cell_type": "code",
   "execution_count": null,
   "metadata": {},
   "outputs": [
    {
     "ename": "Error",
     "evalue": "Data Science libraries jupyter and notebook are not installed.",
     "output_type": "error",
     "traceback": [
      "Error: Data Science libraries jupyter and notebook are not installed.",
      "at E.start (c:\\Users\\jim87\\.vscode\\extensions\\ms-python.python-2020.2.63072\\out\\client\\extension.js:1:820231)",
      "at runMicrotasks (<anonymous>)",
      "at processTicksAndRejections (internal/process/task_queues.js:89:5)"
     ]
    }
   ],
   "source": [
    "img = cv.imread('./r.jpg', cv.CV_8UC1)\n",
    "ret, th1 = cv.threshold(img, 127, 255, cv.THRESH_BINARY+cv.THRESH_OTSU)\n",
    "plt.imshow(th1)\n",
    "plt.show()\n",
    "cv.imwrite('otsu.jpg', th1)"
   ]
  },
  {
   "cell_type": "code",
   "execution_count": null,
   "metadata": {},
   "outputs": [
    {
     "ename": "Error",
     "evalue": "Data Science libraries jupyter and notebook are not installed.",
     "output_type": "error",
     "traceback": [
      "Error: Data Science libraries jupyter and notebook are not installed.",
      "at E.start (c:\\Users\\jim87\\.vscode\\extensions\\ms-python.python-2020.2.63072\\out\\client\\extension.js:1:820231)",
      "at runMicrotasks (<anonymous>)",
      "at processTicksAndRejections (internal/process/task_queues.js:89:5)"
     ]
    }
   ],
   "source": [
    "img = cv.imread('./r.jpg', cv.CV_8UC1)\n",
    "th1 = cv.adaptiveThreshold(img, 255, cv.ADAPTIVE_THRESH_GAUSSIAN_C, cv.THRESH_BINARY, 3, 1)\n",
    "plt.imshow(th1)\n",
    "plt.show()\n",
    "cv.imwrite('adapt_th1.jpg', th1)"
   ]
  },
  {
   "cell_type": "code",
   "execution_count": null,
   "metadata": {},
   "outputs": [
    {
     "ename": "Error",
     "evalue": "Data Science libraries jupyter and notebook are not installed.",
     "output_type": "error",
     "traceback": [
      "Error: Data Science libraries jupyter and notebook are not installed.",
      "at E.start (c:\\Users\\jim87\\.vscode\\extensions\\ms-python.python-2020.2.63072\\out\\client\\extension.js:1:820231)",
      "at runMicrotasks (<anonymous>)",
      "at processTicksAndRejections (internal/process/task_queues.js:89:5)"
     ]
    }
   ],
   "source": [
    "img = cv.imread('./r.jpg', cv.CV_8UC1)\n",
    "\n",
    "th1 = cv.adaptiveThreshold(img, 255, cv.ADAPTIVE_THRESH_GAUSSIAN_C, cv.THRESH_BINARY, 3, 2)\n",
    "th2 = cv.adaptiveThreshold(img, 255, cv.ADAPTIVE_THRESH_GAUSSIAN_C, cv.THRESH_BINARY, 5, 2)\n",
    "th3 = cv.adaptiveThreshold(img, 255, cv.ADAPTIVE_THRESH_GAUSSIAN_C, cv.THRESH_BINARY, 7, 2)\n",
    "th4 = cv.adaptiveThreshold(img, 255, cv.ADAPTIVE_THRESH_GAUSSIAN_C, cv.THRESH_BINARY, 3, 3)\n",
    "th5 = cv.adaptiveThreshold(img, 255, cv.ADAPTIVE_THRESH_GAUSSIAN_C, cv.THRESH_BINARY, 5, 3)\n",
    "th6 = cv.adaptiveThreshold(img, 255, cv.ADAPTIVE_THRESH_GAUSSIAN_C, cv.THRESH_BINARY, 7, 3)\n",
    "th7 = cv.adaptiveThreshold(img, 255, cv.ADAPTIVE_THRESH_GAUSSIAN_C, cv.THRESH_BINARY, 3, 4)\n",
    "th8 = cv.adaptiveThreshold(img, 255, cv.ADAPTIVE_THRESH_GAUSSIAN_C, cv.THRESH_BINARY, 5, 4)\n",
    "th9 = cv.adaptiveThreshold(img, 255, cv.ADAPTIVE_THRESH_GAUSSIAN_C, cv.THRESH_BINARY, 7, 4)\n",
    "\n",
    "plt.subplot(331), plt.imshow(th1, 'gray'), plt.title('th1')\n",
    "plt.subplot(332), plt.imshow(th2, 'gray'), plt.title('th2')\n",
    "plt.subplot(333), plt.imshow(th3, 'gray'), plt.title('th3')\n",
    "plt.subplot(334), plt.imshow(th3, 'gray'), plt.title('th4')\n",
    "plt.subplot(335), plt.imshow(th3, 'gray'), plt.title('th5')\n",
    "plt.subplot(336), plt.imshow(th3, 'gray'), plt.title('th6')\n",
    "plt.subplot(337), plt.imshow(th3, 'gray'), plt.title('th7')\n",
    "plt.subplot(338), plt.imshow(th3, 'gray'), plt.title('th8')\n",
    "plt.subplot(339), plt.imshow(th3, 'gray'), plt.title('th9')\n",
    "\n",
    "plt.savefig('plt.png', dpi = 300)\n",
    "plt.show()\n",
    "\n",
    "cv.imwrite('adapt_th1.jpg', th1)\n",
    "cv.imwrite('adapt_th2.jpg', th2)\n",
    "cv.imwrite('adapt_th3.jpg', th3)\n",
    "cv.imwrite('adapt_th4.jpg', th4)\n",
    "cv.imwrite('adapt_th5.jpg', th5)\n",
    "cv.imwrite('adapt_th6.jpg', th6)\n",
    "cv.imwrite('adapt_th7.jpg', th7)\n",
    "cv.imwrite('adapt_th8.jpg', th8)\n",
    "cv.imwrite('adapt_th9.jpg', th9)"
   ]
  },
  {
   "cell_type": "code",
   "execution_count": null,
   "metadata": {},
   "outputs": [
    {
     "ename": "Error",
     "evalue": "Data Science libraries jupyter and notebook are not installed.",
     "output_type": "error",
     "traceback": [
      "Error: Data Science libraries jupyter and notebook are not installed.",
      "at E.start (c:\\Users\\jim87\\.vscode\\extensions\\ms-python.python-2020.2.63072\\out\\client\\extension.js:1:820231)",
      "at runMicrotasks (<anonymous>)",
      "at processTicksAndRejections (internal/process/task_queues.js:89:5)"
     ]
    }
   ],
   "source": [
    "img = cv.imread('./r.jpg', cv.CV_8UC1)\n",
    "th = cv.adaptiveThreshold(img, 255, cv.ADAPTIVE_THRESH_GAUSSIAN_C, cv.THRESH_BINARY, 5, 2)\n",
    "\n",
    "# kernel = np.ones((3, 3), np.uint8)\n",
    "kernel = np.array([[0, 1, 0], [1, 1, 1], [0, 1, 0]], np.uint8)\n",
    "\n",
    "# 二值化反轉\n",
    "th = cv.bitwise_not(th)\n",
    "\n",
    "opening = cv.morphologyEx(th, cv.MORPH_OPEN, kernel)\n",
    "\n",
    "plt.subplot(121), plt.imshow(th), plt.title('threshold')\n",
    "plt.subplot(122), plt.imshow(opening), plt.title('opening')\n",
    "plt.show()\n",
    "\n",
    "cv.imwrite('threshold1.jpg', th)\n",
    "cv.imwrite('opening.jpg', opening)"
   ]
  },
  {
   "cell_type": "code",
   "execution_count": null,
   "metadata": {},
   "outputs": [
    {
     "ename": "Error",
     "evalue": "Data Science libraries jupyter and notebook are not installed.",
     "output_type": "error",
     "traceback": [
      "Error: Data Science libraries jupyter and notebook are not installed.",
      "at E.start (c:\\Users\\jim87\\.vscode\\extensions\\ms-python.python-2020.2.63072\\out\\client\\extension.js:1:820231)",
      "at runMicrotasks (<anonymous>)",
      "at processTicksAndRejections (internal/process/task_queues.js:89:5)"
     ]
    }
   ],
   "source": [
    "img = cv.imread('./r.jpg', cv.CV_8UC1)\n",
    "th = cv.adaptiveThreshold(img, 255, cv.ADAPTIVE_THRESH_GAUSSIAN_C, cv.THRESH_BINARY, 5, 2)\n",
    "\n",
    "th = cv.bitwise_not(th)\n",
    "\n",
    "kernel = np.ones((3, 3), np.uint8)\n",
    "\n",
    "erosion = cv.erode(th, kernel, iterations = 1)\n",
    "dilation = cv.dilate(th, kernel, iterations = 1)\n",
    "\n",
    "plt.subplot(131), plt.imshow(th), plt.title('threshold')\n",
    "plt.subplot(132), plt.imshow(erosion), plt.title('erosion')\n",
    "plt.show()\n",
    "\n",
    "cv.imwrite('threshold1.jpg', th)\n",
    "cv.imwrite('erosion1.jpg', erosion)"
   ]
  },
  {
   "cell_type": "code",
   "execution_count": null,
   "metadata": {},
   "outputs": [
    {
     "ename": "Error",
     "evalue": "Data Science libraries jupyter and notebook are not installed.",
     "output_type": "error",
     "traceback": [
      "Error: Data Science libraries jupyter and notebook are not installed.",
      "at E.start (c:\\Users\\jim87\\.vscode\\extensions\\ms-python.python-2020.2.63072\\out\\client\\extension.js:1:820231)",
      "at runMicrotasks (<anonymous>)",
      "at processTicksAndRejections (internal/process/task_queues.js:89:5)"
     ]
    }
   ],
   "source": [
    "cnts, _ = cv.findContours(th.copy(), cv.RETR_EXTERNAL, cv.CHAIN_APPROX_SIMPLE)\n",
    "\n",
    "for pic, contour in enumerate(cnts):\n",
    "    area = cv.contourArea(contour)\n",
    "    if area > 10:\n",
    "        x, y, w, h = cv.boundingRect(contour)\n",
    "        cv.rectangle(th, (x, y), (x+w, y+h), (0, 255, 255), 2)\n",
    "\n",
    "cv.imshow('th', th)\n",
    "\n",
    "cv.waitKey(0)\n",
    "cv.destroyAllWindows()"
   ]
  },
  {
   "cell_type": "code",
   "execution_count": null,
   "metadata": {},
   "outputs": [
    {
     "ename": "Error",
     "evalue": "Data Science libraries jupyter and notebook are not installed.",
     "output_type": "error",
     "traceback": [
      "Error: Data Science libraries jupyter and notebook are not installed.",
      "at E.start (c:\\Users\\jim87\\.vscode\\extensions\\ms-python.python-2020.2.63072\\out\\client\\extension.js:1:820231)",
      "at runMicrotasks (<anonymous>)",
      "at processTicksAndRejections (internal/process/task_queues.js:89:5)"
     ]
    }
   ],
   "source": [
    "img = cv.imread('g.jpg')\n",
    "\n",
    "t1 = 250\n",
    "t2 = t1 + 180\n",
    "edges = cv.Canny(img, t1, t2)\n",
    "\n",
    "kernel = np.ones((3, 3), np.uint8)\n",
    "dilation = cv.dilate(edges, kernel, iterations = 1)\n",
    "\n",
    "cnts, _ = cv.findContours(edges.copy(), cv.RETR_EXTERNAL, cv.CHAIN_APPROX_SIMPLE)\n",
    "\n",
    "for pic, contour in enumerate(cnts):\n",
    "    area = cv.contourArea(contour)\n",
    "    x, y, w, h = cv.boundingRect(contour)\n",
    "    img = cv.drawContours(img, contour, -1, (0, 0, 255), 2)\n",
    "\n",
    "plt.subplot(141), plt.imshow(img), plt.title('image')\n",
    "plt.subplot(142), plt.imshow(edges), plt.title('edges')\n",
    "plt.subplot(143), plt.imshow(dilation), plt.title('dilation')\n",
    "\n",
    "cv.imwrite('image_output1.jpg', img)\n",
    "cv.imwrite('edges.jpg', edges)\n",
    "cv.imwrite('dilation1.jpg', dilation)"
   ]
  },
  {
   "cell_type": "code",
   "execution_count": null,
   "metadata": {},
   "outputs": [],
   "source": []
  }
 ]
}